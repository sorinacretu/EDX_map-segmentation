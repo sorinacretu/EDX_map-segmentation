{
 "cells": [
  {
   "cell_type": "code",
   "execution_count": 1,
   "metadata": {},
   "outputs": [
    {
     "name": "stderr",
     "output_type": "stream",
     "text": [
      "WARNING:hyperspy_gui_traitsui:The module://ipykernel.pylab.backend_inline matplotlib backend is not compatible with the traitsui GUI elements. For more information, read http://hyperspy.readthedocs.io/en/stable/user_guide/getting_started.html#possible-warnings-when-importing-hyperspy.\n",
      "WARNING:hyperspy_gui_traitsui:The traitsui GUI elements are not available.\n"
     ]
    }
   ],
   "source": [
    "import numpy as np\n",
    "import hyperspy.api as hs\n",
    "import matplotlib.pyplot as plt"
   ]
  },
  {
   "cell_type": "code",
   "execution_count": 2,
   "metadata": {},
   "outputs": [],
   "source": [
    "%matplotlib qt5"
   ]
  },
  {
   "cell_type": "markdown",
   "metadata": {},
   "source": [
    "### Loading data"
   ]
  },
  {
   "cell_type": "code",
   "execution_count": 3,
   "metadata": {},
   "outputs": [],
   "source": [
    "s = hs.load(\"665.rpl\").as_signal1D(0)"
   ]
  },
  {
   "cell_type": "code",
   "execution_count": 4,
   "metadata": {},
   "outputs": [],
   "source": [
    "s.plot()"
   ]
  },
  {
   "cell_type": "markdown",
   "metadata": {},
   "source": [
    "### Loading parameters"
   ]
  },
  {
   "cell_type": "code",
   "execution_count": 4,
   "metadata": {},
   "outputs": [],
   "source": [
    "s.set_signal_type(\"EDS_SEM\")"
   ]
  },
  {
   "cell_type": "code",
   "execution_count": 5,
   "metadata": {},
   "outputs": [],
   "source": [
    "s.axes_manager[-1].name = 'E'\n",
    "s.axes_manager['E'].units = 'keV'\n",
    "s.axes_manager['E'].scale = 0.01\n",
    "s.axes_manager['E'].offset = -0.1"
   ]
  },
  {
   "cell_type": "code",
   "execution_count": 6,
   "metadata": {},
   "outputs": [],
   "source": [
    "s.add_elements(['Ge','Al','P','O'])"
   ]
  },
  {
   "cell_type": "code",
   "execution_count": 7,
   "metadata": {},
   "outputs": [],
   "source": [
    "s.set_microscope_parameters(beam_energy=5.0)"
   ]
  },
  {
   "cell_type": "code",
   "execution_count": 8,
   "metadata": {},
   "outputs": [],
   "source": [
    "s.add_lines(['O_Ka','Al_Ka','P_Ka','Ge_La'])"
   ]
  },
  {
   "cell_type": "code",
   "execution_count": 9,
   "metadata": {},
   "outputs": [
    {
     "data": {
      "text/html": [
       "<ul style=\"margin: 0px; list-style-position: outside;\">\n",
       "                    <details open>\n",
       "                    <summary style=\"display: list-item;\">\n",
       "                    <li style=\"display: inline;\">\n",
       "                    Acquisition_instrument\n",
       "                    </li></summary>\n",
       "                    <ul style=\"margin: 0px; list-style-position: outside;\">\n",
       "                    <details closed>\n",
       "                    <summary style=\"display: list-item;\">\n",
       "                    <li style=\"display: inline;\">\n",
       "                    SEM\n",
       "                    </li></summary>\n",
       "                    <ul style=\"margin: 0px; list-style-position: outside;\">\n",
       "                    <details closed>\n",
       "                    <summary style=\"display: list-item;\">\n",
       "                    <li style=\"display: inline;\">\n",
       "                    Detector\n",
       "                    </li></summary>\n",
       "                    <ul style=\"margin: 0px; list-style-position: outside;\">\n",
       "                    <details closed>\n",
       "                    <summary style=\"display: list-item;\">\n",
       "                    <li style=\"display: inline;\">\n",
       "                    EDS\n",
       "                    </li></summary>\n",
       "                    \n",
       "    <ul style=\"margin: 0px; list-style-position: outside;\">\n",
       "    <li style='margin-left:1em; padding-left: 0.5em'>azimuth_angle = 0.0</li></ul>\n",
       "    \n",
       "    <ul style=\"margin: 0px; list-style-position: outside;\">\n",
       "    <li style='margin-left:1em; padding-left: 0.5em'>elevation_angle = 35.0</li></ul>\n",
       "    \n",
       "    <ul style=\"margin: 0px; list-style-position: outside;\">\n",
       "    <li style='margin-left:1em; padding-left: 0.5em'>energy_resolution_MnKa = 130.0</li></ul>\n",
       "    </details></ul></details></ul><ul style=\"margin: 0px; list-style-position: outside;\">\n",
       "                    <details closed>\n",
       "                    <summary style=\"display: list-item;\">\n",
       "                    <li style=\"display: inline;\">\n",
       "                    Stage\n",
       "                    </li></summary>\n",
       "                    \n",
       "    <ul style=\"margin: 0px; list-style-position: outside;\">\n",
       "    <li style='margin-left:1em; padding-left: 0.5em'>tilt_alpha = 0.0</li></ul>\n",
       "    </details></ul>\n",
       "    <ul style=\"margin: 0px; list-style-position: outside;\">\n",
       "    <li style='margin-left:1em; padding-left: 0.5em'>beam_energy = 5.0</li></ul>\n",
       "    </details></ul></details></ul><ul style=\"margin: 0px; list-style-position: outside;\">\n",
       "                    <details open>\n",
       "                    <summary style=\"display: list-item;\">\n",
       "                    <li style=\"display: inline;\">\n",
       "                    General\n",
       "                    </li></summary>\n",
       "                    \n",
       "    <ul style=\"margin: 0px; list-style-position: outside;\">\n",
       "    <li style='margin-left:1em; padding-left: 0.5em'>date = </li></ul>\n",
       "    \n",
       "    <ul style=\"margin: 0px; list-style-position: outside;\">\n",
       "    <li style='margin-left:1em; padding-left: 0.5em'>original_filename = 665.rpl</li></ul>\n",
       "    \n",
       "    <ul style=\"margin: 0px; list-style-position: outside;\">\n",
       "    <li style='margin-left:1em; padding-left: 0.5em'>time = </li></ul>\n",
       "    \n",
       "    <ul style=\"margin: 0px; list-style-position: outside;\">\n",
       "    <li style='margin-left:1em; padding-left: 0.5em'>title = </li></ul>\n",
       "    </details></ul><ul style=\"margin: 0px; list-style-position: outside;\">\n",
       "                    <details open>\n",
       "                    <summary style=\"display: list-item;\">\n",
       "                    <li style=\"display: inline;\">\n",
       "                    Sample\n",
       "                    </li></summary>\n",
       "                    \n",
       "    <ul style=\"margin: 0px; list-style-position: outside;\">\n",
       "    <li style='margin-left:1em; padding-left: 0.5em'>elements = ['Al', 'Ge', 'O', 'P']</li></ul>\n",
       "    \n",
       "    <ul style=\"margin: 0px; list-style-position: outside;\">\n",
       "    <li style='margin-left:1em; padding-left: 0.5em'>xray_lines = ['Al_Ka', 'Ge_La', 'O_Ka', 'P_Ka']</li></ul>\n",
       "    </details></ul><ul style=\"margin: 0px; list-style-position: outside;\">\n",
       "                    <details open>\n",
       "                    <summary style=\"display: list-item;\">\n",
       "                    <li style=\"display: inline;\">\n",
       "                    Signal\n",
       "                    </li></summary>\n",
       "                    \n",
       "    <ul style=\"margin: 0px; list-style-position: outside;\">\n",
       "    <li style='margin-left:1em; padding-left: 0.5em'>binned = True</li></ul>\n",
       "    \n",
       "    <ul style=\"margin: 0px; list-style-position: outside;\">\n",
       "    <li style='margin-left:1em; padding-left: 0.5em'>signal_type = EDS_SEM</li></ul>\n",
       "    </details></ul>"
      ],
      "text/plain": [
       "├── Acquisition_instrument\n",
       "│   └── SEM\n",
       "│       ├── Detector\n",
       "│       │   └── EDS\n",
       "│       │       ├── azimuth_angle = 0.0\n",
       "│       │       ├── elevation_angle = 35.0\n",
       "│       │       └── energy_resolution_MnKa = 130.0\n",
       "│       ├── Stage\n",
       "│       │   └── tilt_alpha = 0.0\n",
       "│       └── beam_energy = 5.0\n",
       "├── General\n",
       "│   ├── date = \n",
       "│   ├── original_filename = 665.rpl\n",
       "│   ├── time = \n",
       "│   └── title = \n",
       "├── Sample\n",
       "│   ├── elements = ['Al', 'Ge', 'O', 'P']\n",
       "│   └── xray_lines = ['Al_Ka', 'Ge_La', 'O_Ka', 'P_Ka']\n",
       "└── Signal\n",
       "    ├── binned = True\n",
       "    └── signal_type = EDS_SEM"
      ]
     },
     "execution_count": 9,
     "metadata": {},
     "output_type": "execute_result"
    }
   ],
   "source": [
    "s.metadata"
   ]
  },
  {
   "cell_type": "code",
   "execution_count": 10,
   "metadata": {},
   "outputs": [],
   "source": [
    "s.crop_signal1D(-0.1, 2.5)"
   ]
  },
  {
   "cell_type": "code",
   "execution_count": 11,
   "metadata": {},
   "outputs": [],
   "source": [
    "s.plot()"
   ]
  },
  {
   "cell_type": "code",
   "execution_count": 15,
   "metadata": {},
   "outputs": [],
   "source": [
    "s.sum().plot(xray_lines=True)"
   ]
  },
  {
   "cell_type": "code",
   "execution_count": 11,
   "metadata": {},
   "outputs": [],
   "source": [
    "s.change_dtype('float')"
   ]
  },
  {
   "cell_type": "code",
   "execution_count": 12,
   "metadata": {},
   "outputs": [
    {
     "name": "stdout",
     "output_type": "stream",
     "text": [
      "Overwrite 'spectrumjuin.hdf5' (y/n)?\n",
      "y\n"
     ]
    }
   ],
   "source": [
    "s.save('spectrumjuin.hdf5')"
   ]
  },
  {
   "cell_type": "code",
   "execution_count": 14,
   "metadata": {},
   "outputs": [],
   "source": [
    "### Loading data"
   ]
  },
  {
   "cell_type": "code",
   "execution_count": 13,
   "metadata": {},
   "outputs": [],
   "source": [
    "sem_im = hs.load('Segmented_image_512.tif')"
   ]
  },
  {
   "cell_type": "code",
   "execution_count": 18,
   "metadata": {},
   "outputs": [],
   "source": [
    "sem_im.plot()"
   ]
  },
  {
   "cell_type": "code",
   "execution_count": 14,
   "metadata": {},
   "outputs": [],
   "source": [
    "s = hs.load('spectrumjuin.hdf5')"
   ]
  },
  {
   "cell_type": "code",
   "execution_count": 15,
   "metadata": {},
   "outputs": [
    {
     "data": {
      "text/plain": [
       "(384, 512, 260)"
      ]
     },
     "execution_count": 15,
     "metadata": {},
     "output_type": "execute_result"
    }
   ],
   "source": [
    "s.data.shape"
   ]
  },
  {
   "cell_type": "code",
   "execution_count": 16,
   "metadata": {},
   "outputs": [
    {
     "data": {
      "text/plain": [
       "(384, 512)"
      ]
     },
     "execution_count": 16,
     "metadata": {},
     "output_type": "execute_result"
    }
   ],
   "source": [
    "sem_im.data.shape"
   ]
  },
  {
   "cell_type": "code",
   "execution_count": 17,
   "metadata": {},
   "outputs": [],
   "source": [
    "# Look for the pixel values in the SEM images\n",
    "max_px_nbr = 3 # input the maximal number of different areas expected\n",
    "px_values = np.zeros((max_px_nbr), dtype='int')\n",
    "\n",
    "s_single_sum = hs.hyperspy.signal.hyperspy.signals.EDSSEMSpectrum( \\\n",
    "                    np.zeros([max_px_nbr,s.data.shape[2]], dtype='float'))\n",
    "\n",
    "k_0=0\n",
    "k_1=0\n",
    "k_2=0\n",
    "s_single_sum.data[:]=0\n",
    "\n",
    "for i in range(0,sem_im.data.shape[0]):\n",
    "    for j in range(0, sem_im.data.shape[1]):\n",
    "        for k in range(0, px_values.size):\n",
    "            if sem_im.isig[j,i]()[0]==0:\n",
    "                s_single_sum.inav[0]=s_single_sum.inav[0]+s.inav[j,i]\n",
    "                k_0 = k_0 +1\n",
    "            elif sem_im.isig[j,i]()[0]==1:\n",
    "                s_single_sum.inav[1]=s_single_sum.inav[1]+s.inav[j,i]\n",
    "                k_1 = k_1 +1\n",
    "            elif sem_im.isig[j,i]()[0]==2:\n",
    "                s_single_sum.inav[2]=s_single_sum.inav[2]+s.inav[j,i]\n",
    "                k_2 = k_2 +1\n",
    "            else: print('pb')"
   ]
  },
  {
   "cell_type": "code",
   "execution_count": 18,
   "metadata": {},
   "outputs": [],
   "source": [
    "s_single_sum2 = s_single_sum.deepcopy()"
   ]
  },
  {
   "cell_type": "code",
   "execution_count": 19,
   "metadata": {},
   "outputs": [],
   "source": [
    "s_single_sum.add_elements(['Ge','Al','P','O'])"
   ]
  },
  {
   "cell_type": "code",
   "execution_count": 20,
   "metadata": {},
   "outputs": [],
   "source": [
    "s_single_sum.axes_manager[1].offset = s.axes_manager[2].offset \n",
    "s_single_sum.axes_manager[1].scale = s.axes_manager[2].scale \n",
    "s_single_sum.axes_manager[1].units = s.axes_manager[2].units"
   ]
  },
  {
   "cell_type": "code",
   "execution_count": 21,
   "metadata": {},
   "outputs": [],
   "source": [
    "s_single_sum.add_lines(['Al_Ka','P_Ka','Ge_La','O_Ka'])"
   ]
  },
  {
   "cell_type": "code",
   "execution_count": 22,
   "metadata": {},
   "outputs": [],
   "source": [
    "s_single_sum.metadata.Acquisition_instrument = s.metadata.Acquisition_instrument\n",
    "s_single_sum.metadata.Sample = s.metadata.Sample"
   ]
  },
  {
   "cell_type": "code",
   "execution_count": 23,
   "metadata": {},
   "outputs": [],
   "source": [
    "s_single_sum.plot(xray_lines=True)"
   ]
  },
  {
   "cell_type": "code",
   "execution_count": 24,
   "metadata": {},
   "outputs": [],
   "source": [
    "s_single_sum.save('Sum2JUIN.hdf5')"
   ]
  },
  {
   "cell_type": "code",
   "execution_count": 3,
   "metadata": {},
   "outputs": [],
   "source": [
    "s_single_sum=hs.load('Sum2JUIN.hdf5')"
   ]
  },
  {
   "cell_type": "code",
   "execution_count": 4,
   "metadata": {},
   "outputs": [
    {
     "ename": "NameError",
     "evalue": "name 's' is not defined",
     "output_type": "error",
     "traceback": [
      "\u001b[1;31m---------------------------------------------------------------------------\u001b[0m",
      "\u001b[1;31mNameError\u001b[0m                                 Traceback (most recent call last)",
      "\u001b[1;32m<ipython-input-4-886abc61b753>\u001b[0m in \u001b[0;36m<module>\u001b[1;34m\u001b[0m\n\u001b[1;32m----> 1\u001b[1;33m \u001b[0ms\u001b[0m\u001b[1;33m.\u001b[0m\u001b[0mplot\u001b[0m\u001b[1;33m(\u001b[0m\u001b[1;33m)\u001b[0m\u001b[1;33m\u001b[0m\u001b[1;33m\u001b[0m\u001b[0m\n\u001b[0m",
      "\u001b[1;31mNameError\u001b[0m: name 's' is not defined"
     ]
    }
   ],
   "source": [
    "s.plot()"
   ]
  },
  {
   "cell_type": "code",
   "execution_count": 5,
   "metadata": {},
   "outputs": [],
   "source": [
    "bw = s_single_sum.estimate_background_windows(line_width=[2.5, 2.0])\n",
    "s_single_sum.plot(background_windows=bw)\n",
    "intensities = s_single_sum.get_lines_intensity(background_windows=bw)"
   ]
  },
  {
   "cell_type": "code",
   "execution_count": 6,
   "metadata": {},
   "outputs": [
    {
     "data": {
      "text/plain": [
       "[<BaseSignal, title: X-ray line intensity of : Al_Ka at 1.49 keV, dimensions: (3|)>,\n",
       " <BaseSignal, title: X-ray line intensity of : Ge_La at 1.19 keV, dimensions: (3|)>,\n",
       " <BaseSignal, title: X-ray line intensity of : O_Ka at 0.52 keV, dimensions: (3|)>,\n",
       " <BaseSignal, title: X-ray line intensity of : P_Ka at 2.01 keV, dimensions: (3|)>]"
      ]
     },
     "execution_count": 6,
     "metadata": {},
     "output_type": "execute_result"
    }
   ],
   "source": [
    "intensities"
   ]
  },
  {
   "cell_type": "code",
   "execution_count": 7,
   "metadata": {},
   "outputs": [],
   "source": [
    "# intensities are the intensities- 0: Al_Ka, 1: Ge_La, 2:O_Ka, 3:P_Ka \n",
    "# inav indicates which area to selec-t 0: inter-grain, 1:grain, 2:voids\n",
    "# intensities are the X-rays intensities, they do not directly give the concentration\n",
    "# To get the concentration the .quantification method should be used by needs the CL factors \\\n",
    "#       from the X-rays acquisition software"
   ]
  },
  {
   "cell_type": "code",
   "execution_count": 8,
   "metadata": {},
   "outputs": [
    {
     "data": {
      "text/plain": [
       "<BaseSignal, title: X-ray line intensity of : O_Ka at 0.52 keV, dimensions: (3|)>"
      ]
     },
     "execution_count": 8,
     "metadata": {},
     "output_type": "execute_result"
    }
   ],
   "source": [
    "intensities[2]"
   ]
  },
  {
   "cell_type": "code",
   "execution_count": 9,
   "metadata": {},
   "outputs": [
    {
     "data": {
      "text/plain": [
       "0.16308582380282827"
      ]
     },
     "execution_count": 9,
     "metadata": {},
     "output_type": "execute_result"
    }
   ],
   "source": [
    "# Al/Ge inter-grain\n",
    "intensities[0].inav[0].data[0]/intensities[1].inav[0].data[0]"
   ]
  },
  {
   "cell_type": "code",
   "execution_count": 40,
   "metadata": {},
   "outputs": [
    {
     "data": {
      "text/plain": [
       "0.07284268393948509"
      ]
     },
     "execution_count": 40,
     "metadata": {},
     "output_type": "execute_result"
    }
   ],
   "source": [
    "# Al/Ge grain\n",
    "intensities[0].inav[1].data[0]/intensities[1].inav[1].data[0]"
   ]
  },
  {
   "cell_type": "code",
   "execution_count": 41,
   "metadata": {},
   "outputs": [
    {
     "data": {
      "text/plain": [
       "2.9710211447353103"
      ]
     },
     "execution_count": 41,
     "metadata": {},
     "output_type": "execute_result"
    }
   ],
   "source": [
    "# O/Ge inter-grain\n",
    "intensities[2].inav[0].data[0]/intensities[1].inav[0].data[0]"
   ]
  },
  {
   "cell_type": "code",
   "execution_count": 42,
   "metadata": {},
   "outputs": [
    {
     "data": {
      "text/plain": [
       "2.164807022726413"
      ]
     },
     "execution_count": 42,
     "metadata": {},
     "output_type": "execute_result"
    }
   ],
   "source": [
    "# O/Ge grain\n",
    "intensities[2].inav[1].data[0]/intensities[1].inav[1].data[0]"
   ]
  },
  {
   "cell_type": "code",
   "execution_count": 43,
   "metadata": {},
   "outputs": [
    {
     "data": {
      "text/plain": [
       "1.0086961194350659"
      ]
     },
     "execution_count": 43,
     "metadata": {},
     "output_type": "execute_result"
    }
   ],
   "source": [
    "# P/Ge inter-grain\n",
    "intensities[3].inav[0].data[0]/intensities[1].inav[0].data[0]"
   ]
  },
  {
   "cell_type": "code",
   "execution_count": 44,
   "metadata": {},
   "outputs": [
    {
     "data": {
      "text/plain": [
       "0.6515988825024451"
      ]
     },
     "execution_count": 44,
     "metadata": {},
     "output_type": "execute_result"
    }
   ],
   "source": [
    "# P/Ge grain\n",
    "intensities[3].inav[1].data[0]/intensities[1].inav[1].data[0]"
   ]
  },
  {
   "cell_type": "code",
   "execution_count": 45,
   "metadata": {},
   "outputs": [
    {
     "data": {
      "text/plain": [
       "18.217531576057112"
      ]
     },
     "execution_count": 45,
     "metadata": {},
     "output_type": "execute_result"
    }
   ],
   "source": [
    "#O/Al inter-grain\n",
    "intensities[2].inav[0].data[0]/intensities[0].inav[0].data[0]"
   ]
  },
  {
   "cell_type": "code",
   "execution_count": 46,
   "metadata": {},
   "outputs": [
    {
     "data": {
      "text/plain": [
       "29.718935459940653"
      ]
     },
     "execution_count": 46,
     "metadata": {},
     "output_type": "execute_result"
    }
   ],
   "source": [
    "#O/Al grain\n",
    "intensities[2].inav[1].data[0]/intensities[0].inav[1].data[0]"
   ]
  },
  {
   "cell_type": "code",
   "execution_count": 47,
   "metadata": {},
   "outputs": [
    {
     "data": {
      "text/plain": [
       "6.185063152114223"
      ]
     },
     "execution_count": 47,
     "metadata": {},
     "output_type": "execute_result"
    }
   ],
   "source": [
    "#P/Al intergrain\n",
    "intensities[3].inav[0].data[0]/intensities[0].inav[0].data[0]"
   ]
  },
  {
   "cell_type": "code",
   "execution_count": 48,
   "metadata": {},
   "outputs": [
    {
     "data": {
      "text/plain": [
       "8.945289317507418"
      ]
     },
     "execution_count": 48,
     "metadata": {},
     "output_type": "execute_result"
    }
   ],
   "source": [
    "#P/Al grain\n",
    "intensities[3].inav[1].data[0]/intensities[0].inav[1].data[0]"
   ]
  },
  {
   "cell_type": "code",
   "execution_count": 49,
   "metadata": {},
   "outputs": [
    {
     "data": {
      "text/plain": [
       "2.9454075290775106"
      ]
     },
     "execution_count": 49,
     "metadata": {},
     "output_type": "execute_result"
    }
   ],
   "source": [
    "#O/P intergrain\n",
    "intensities[2].inav[0].data[0]/intensities[3].inav[0].data[0]"
   ]
  },
  {
   "cell_type": "code",
   "execution_count": 50,
   "metadata": {},
   "outputs": [
    {
     "data": {
      "text/plain": [
       "3.3223000850040427"
      ]
     },
     "execution_count": 50,
     "metadata": {},
     "output_type": "execute_result"
    }
   ],
   "source": [
    "#O/P grain\n",
    "intensities[2].inav[1].data[0]/intensities[3].inav[1].data[0]"
   ]
  },
  {
   "cell_type": "code",
   "execution_count": 62,
   "metadata": {},
   "outputs": [
    {
     "data": {
      "text/plain": [
       "0.030729854302918084"
      ]
     },
     "execution_count": 62,
     "metadata": {},
     "output_type": "execute_result"
    }
   ],
   "source": [
    "###Ge grain/Ge inter grain\n",
    "intensities[1].inav[1].data[0]/intensities[1].inav[0].data[0]"
   ]
  },
  {
   "cell_type": "code",
   "execution_count": 63,
   "metadata": {},
   "outputs": [
    {
     "data": {
      "text/plain": [
       "0.060111317254174394"
      ]
     },
     "execution_count": 63,
     "metadata": {},
     "output_type": "execute_result"
    }
   ],
   "source": [
    "#Al grain/Al inter grain\n",
    "intensities[0].inav[1].data[0]/intensities[0].inav[0].data[0]"
   ]
  },
  {
   "cell_type": "code",
   "execution_count": 64,
   "metadata": {},
   "outputs": [
    {
     "data": {
      "text/plain": [
       "0.04388507273282118"
      ]
     },
     "execution_count": 64,
     "metadata": {},
     "output_type": "execute_result"
    }
   ],
   "source": [
    "#O grain/O inter grain\n",
    "intensities[2].inav[1].data[0]/intensities[2].inav[0].data[0]"
   ]
  },
  {
   "cell_type": "code",
   "execution_count": 65,
   "metadata": {},
   "outputs": [
    {
     "data": {
      "text/plain": [
       "0.04170466793798192"
      ]
     },
     "execution_count": 65,
     "metadata": {},
     "output_type": "execute_result"
    }
   ],
   "source": [
    "#P grain/P inter grain\n",
    "intensities[3].inav[1].data[0]/intensities[3].inav[0].data[0]"
   ]
  },
  {
   "cell_type": "code",
   "execution_count": 10,
   "metadata": {},
   "outputs": [],
   "source": [
    "s_single_sum.plot(xray_lines=True)"
   ]
  },
  {
   "cell_type": "code",
   "execution_count": 11,
   "metadata": {},
   "outputs": [],
   "source": [
    "s_single_sum.inav[0].plot()\n",
    "###spectra of intergrain region"
   ]
  },
  {
   "cell_type": "code",
   "execution_count": 12,
   "metadata": {},
   "outputs": [],
   "source": [
    "s_single_sum.inav[1].plot()\n",
    "###Spectra of the grain region"
   ]
  },
  {
   "cell_type": "code",
   "execution_count": 13,
   "metadata": {},
   "outputs": [],
   "source": [
    "all_spectra= hs.plot.plot_spectra([s_single_sum.inav[0], s_single_sum.inav[1]])\n",
    "### blue, yellow"
   ]
  },
  {
   "cell_type": "code",
   "execution_count": 14,
   "metadata": {},
   "outputs": [],
   "source": [
    "s_single_sum.axes_manager[-1].name = 'E'\n",
    "s_single_sum.axes_manager['E'].units = 'keV'"
   ]
  },
  {
   "cell_type": "code",
   "execution_count": 17,
   "metadata": {},
   "outputs": [],
   "source": [
    "s_single_sum.add_elements(['Ge','Al','P','O'])\n",
    "s_single_sum.add_lines(['Al_Ka','P_Ka','Ge_La','O_Ka'])\n",
    "legendtext=['Inter-grain phase', 'Grains']\n",
    "norma_all_spectra= hs.plot.plot_spectra([s_single_sum.inav[0], s_single_sum.inav[1]], legend=legendtext)\n",
    "norma_all_spectra.plot(xray_lines=True, plot_result=True)\n",
    "plt.draw()"
   ]
  },
  {
   "cell_type": "code",
   "execution_count": 49,
   "metadata": {},
   "outputs": [],
   "source": [
    "all_spectra.figure.savefig(\"all_spectra_non_normalized.png\")"
   ]
  },
  {
   "cell_type": "code",
   "execution_count": 15,
   "metadata": {},
   "outputs": [],
   "source": [
    "### NORMALIZATION\n",
    "for i in s_single_sum:\n",
    "    i.data /= i.data.max()"
   ]
  },
  {
   "cell_type": "code",
   "execution_count": 16,
   "metadata": {},
   "outputs": [],
   "source": [
    "norma_all_spectra= hs.plot.plot_spectra([s_single_sum.inav[0], s_single_sum.inav[1]])\n",
    "plt.draw()\n",
    "###blue intergrain, yellow grain"
   ]
  },
  {
   "cell_type": "code",
   "execution_count": 52,
   "metadata": {},
   "outputs": [],
   "source": [
    "norma_all_spectra.figure.savefig(\"norm_spectra665.png\")"
   ]
  }
 ],
 "metadata": {
  "kernelspec": {
   "display_name": "Python 3",
   "language": "python",
   "name": "python3"
  },
  "language_info": {
   "codemirror_mode": {
    "name": "ipython",
    "version": 3
   },
   "file_extension": ".py",
   "mimetype": "text/x-python",
   "name": "python",
   "nbconvert_exporter": "python",
   "pygments_lexer": "ipython3",
   "version": "3.8.5"
  }
 },
 "nbformat": 4,
 "nbformat_minor": 2
}
