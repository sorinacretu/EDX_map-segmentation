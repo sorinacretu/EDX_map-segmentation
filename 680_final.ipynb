{
 "cells": [
  {
   "cell_type": "code",
   "execution_count": 1,
   "metadata": {},
   "outputs": [
    {
     "name": "stderr",
     "output_type": "stream",
     "text": [
      "WARNING:hyperspy_gui_traitsui:The module://ipykernel.pylab.backend_inline matplotlib backend is not compatible with the traitsui GUI elements. For more information, read http://hyperspy.readthedocs.io/en/stable/user_guide/getting_started.html#possible-warnings-when-importing-hyperspy.\n",
      "WARNING:hyperspy_gui_traitsui:The traitsui GUI elements are not available.\n"
     ]
    }
   ],
   "source": [
    "import numpy as np\n",
    "import hyperspy.api as hs\n",
    "import matplotlib.pyplot as plt"
   ]
  },
  {
   "cell_type": "code",
   "execution_count": 2,
   "metadata": {},
   "outputs": [],
   "source": [
    "%matplotlib qt5\n"
   ]
  },
  {
   "cell_type": "markdown",
   "metadata": {},
   "source": [
    "### Loading data"
   ]
  },
  {
   "cell_type": "code",
   "execution_count": 4,
   "metadata": {},
   "outputs": [],
   "source": [
    "s = hs.load(\"680.rpl\").as_signal1D(0)\n"
   ]
  },
  {
   "cell_type": "code",
   "execution_count": 6,
   "metadata": {},
   "outputs": [],
   "source": [
    "s.plot()"
   ]
  },
  {
   "cell_type": "code",
   "execution_count": 7,
   "metadata": {},
   "outputs": [
    {
     "data": {
      "application/vnd.jupyter.widget-view+json": {
       "model_id": "7a21a79e8fc340d0bef55161995afaee",
       "version_major": 2,
       "version_minor": 0
      },
      "text/plain": [
       "HBox(children=(Accordion(children=(VBox(children=(HBox(children=(Label(value='Name'), Text(value='width')), la…"
      ]
     },
     "metadata": {},
     "output_type": "display_data"
    }
   ],
   "source": [
    "s.axes_manager.gui()"
   ]
  },
  {
   "cell_type": "markdown",
   "metadata": {},
   "source": [
    "### Loading parameters"
   ]
  },
  {
   "cell_type": "code",
   "execution_count": 8,
   "metadata": {},
   "outputs": [],
   "source": [
    "s.set_signal_type(\"EDS_SEM\")"
   ]
  },
  {
   "cell_type": "code",
   "execution_count": 9,
   "metadata": {},
   "outputs": [],
   "source": [
    "s.axes_manager[-1].name = 'E'\n",
    "s.axes_manager['E'].units = 'keV'\n",
    "s.axes_manager['E'].scale = 0.01\n",
    "s.axes_manager['E'].offset = -0.1"
   ]
  },
  {
   "cell_type": "code",
   "execution_count": 10,
   "metadata": {},
   "outputs": [],
   "source": [
    "s.add_elements(['Ge','Al','P','O'])"
   ]
  },
  {
   "cell_type": "code",
   "execution_count": 11,
   "metadata": {},
   "outputs": [],
   "source": [
    "s.set_microscope_parameters(beam_energy=5.0)"
   ]
  },
  {
   "cell_type": "code",
   "execution_count": 12,
   "metadata": {},
   "outputs": [],
   "source": [
    "s.add_lines(['O_Ka','Al_Ka','P_Ka','Ge_La'])"
   ]
  },
  {
   "cell_type": "code",
   "execution_count": 13,
   "metadata": {},
   "outputs": [
    {
     "data": {
      "text/html": [
       "<ul style=\"margin: 0px; list-style-position: outside;\">\n",
       "                    <details open>\n",
       "                    <summary style=\"display: list-item;\">\n",
       "                    <li style=\"display: inline;\">\n",
       "                    Acquisition_instrument\n",
       "                    </li></summary>\n",
       "                    <ul style=\"margin: 0px; list-style-position: outside;\">\n",
       "                    <details closed>\n",
       "                    <summary style=\"display: list-item;\">\n",
       "                    <li style=\"display: inline;\">\n",
       "                    SEM\n",
       "                    </li></summary>\n",
       "                    <ul style=\"margin: 0px; list-style-position: outside;\">\n",
       "                    <details closed>\n",
       "                    <summary style=\"display: list-item;\">\n",
       "                    <li style=\"display: inline;\">\n",
       "                    Detector\n",
       "                    </li></summary>\n",
       "                    <ul style=\"margin: 0px; list-style-position: outside;\">\n",
       "                    <details closed>\n",
       "                    <summary style=\"display: list-item;\">\n",
       "                    <li style=\"display: inline;\">\n",
       "                    EDS\n",
       "                    </li></summary>\n",
       "                    \n",
       "    <ul style=\"margin: 0px; list-style-position: outside;\">\n",
       "    <li style='margin-left:1em; padding-left: 0.5em'>azimuth_angle = 0.0</li></ul>\n",
       "    \n",
       "    <ul style=\"margin: 0px; list-style-position: outside;\">\n",
       "    <li style='margin-left:1em; padding-left: 0.5em'>elevation_angle = 35.0</li></ul>\n",
       "    \n",
       "    <ul style=\"margin: 0px; list-style-position: outside;\">\n",
       "    <li style='margin-left:1em; padding-left: 0.5em'>energy_resolution_MnKa = 130.0</li></ul>\n",
       "    </details></ul></details></ul><ul style=\"margin: 0px; list-style-position: outside;\">\n",
       "                    <details closed>\n",
       "                    <summary style=\"display: list-item;\">\n",
       "                    <li style=\"display: inline;\">\n",
       "                    Stage\n",
       "                    </li></summary>\n",
       "                    \n",
       "    <ul style=\"margin: 0px; list-style-position: outside;\">\n",
       "    <li style='margin-left:1em; padding-left: 0.5em'>tilt_alpha = 0.0</li></ul>\n",
       "    </details></ul>\n",
       "    <ul style=\"margin: 0px; list-style-position: outside;\">\n",
       "    <li style='margin-left:1em; padding-left: 0.5em'>beam_energy = 5.0</li></ul>\n",
       "    </details></ul></details></ul><ul style=\"margin: 0px; list-style-position: outside;\">\n",
       "                    <details open>\n",
       "                    <summary style=\"display: list-item;\">\n",
       "                    <li style=\"display: inline;\">\n",
       "                    General\n",
       "                    </li></summary>\n",
       "                    \n",
       "    <ul style=\"margin: 0px; list-style-position: outside;\">\n",
       "    <li style='margin-left:1em; padding-left: 0.5em'>date = </li></ul>\n",
       "    \n",
       "    <ul style=\"margin: 0px; list-style-position: outside;\">\n",
       "    <li style='margin-left:1em; padding-left: 0.5em'>original_filename = 680.rpl</li></ul>\n",
       "    \n",
       "    <ul style=\"margin: 0px; list-style-position: outside;\">\n",
       "    <li style='margin-left:1em; padding-left: 0.5em'>time = </li></ul>\n",
       "    \n",
       "    <ul style=\"margin: 0px; list-style-position: outside;\">\n",
       "    <li style='margin-left:1em; padding-left: 0.5em'>title = </li></ul>\n",
       "    </details></ul><ul style=\"margin: 0px; list-style-position: outside;\">\n",
       "                    <details open>\n",
       "                    <summary style=\"display: list-item;\">\n",
       "                    <li style=\"display: inline;\">\n",
       "                    Sample\n",
       "                    </li></summary>\n",
       "                    \n",
       "    <ul style=\"margin: 0px; list-style-position: outside;\">\n",
       "    <li style='margin-left:1em; padding-left: 0.5em'>elements = ['Al', 'Ge', 'O', 'P']</li></ul>\n",
       "    \n",
       "    <ul style=\"margin: 0px; list-style-position: outside;\">\n",
       "    <li style='margin-left:1em; padding-left: 0.5em'>xray_lines = ['Al_Ka', 'Ge_La', 'O_Ka', 'P_Ka']</li></ul>\n",
       "    </details></ul><ul style=\"margin: 0px; list-style-position: outside;\">\n",
       "                    <details open>\n",
       "                    <summary style=\"display: list-item;\">\n",
       "                    <li style=\"display: inline;\">\n",
       "                    Signal\n",
       "                    </li></summary>\n",
       "                    \n",
       "    <ul style=\"margin: 0px; list-style-position: outside;\">\n",
       "    <li style='margin-left:1em; padding-left: 0.5em'>binned = True</li></ul>\n",
       "    \n",
       "    <ul style=\"margin: 0px; list-style-position: outside;\">\n",
       "    <li style='margin-left:1em; padding-left: 0.5em'>signal_type = EDS_SEM</li></ul>\n",
       "    </details></ul>"
      ],
      "text/plain": [
       "├── Acquisition_instrument\n",
       "│   └── SEM\n",
       "│       ├── Detector\n",
       "│       │   └── EDS\n",
       "│       │       ├── azimuth_angle = 0.0\n",
       "│       │       ├── elevation_angle = 35.0\n",
       "│       │       └── energy_resolution_MnKa = 130.0\n",
       "│       ├── Stage\n",
       "│       │   └── tilt_alpha = 0.0\n",
       "│       └── beam_energy = 5.0\n",
       "├── General\n",
       "│   ├── date = \n",
       "│   ├── original_filename = 680.rpl\n",
       "│   ├── time = \n",
       "│   └── title = \n",
       "├── Sample\n",
       "│   ├── elements = ['Al', 'Ge', 'O', 'P']\n",
       "│   └── xray_lines = ['Al_Ka', 'Ge_La', 'O_Ka', 'P_Ka']\n",
       "└── Signal\n",
       "    ├── binned = True\n",
       "    └── signal_type = EDS_SEM"
      ]
     },
     "execution_count": 13,
     "metadata": {},
     "output_type": "execute_result"
    }
   ],
   "source": [
    "s.metadata"
   ]
  },
  {
   "cell_type": "code",
   "execution_count": 14,
   "metadata": {},
   "outputs": [],
   "source": [
    "s.crop_signal1D(0.3, 2.5)"
   ]
  },
  {
   "cell_type": "code",
   "execution_count": 15,
   "metadata": {},
   "outputs": [],
   "source": [
    "s.plot()"
   ]
  },
  {
   "cell_type": "code",
   "execution_count": 16,
   "metadata": {},
   "outputs": [],
   "source": [
    "s.plot(xray_lines=True)"
   ]
  },
  {
   "cell_type": "code",
   "execution_count": 17,
   "metadata": {},
   "outputs": [
    {
     "name": "stderr",
     "output_type": "stream",
     "text": [
      "Traceback (most recent call last):\n",
      "  File \"C:\\Users\\UPJV\\HyperSpy-bundle\\lib\\site-packages\\matplotlib\\cbook\\__init__.py\", line 196, in process\n",
      "    func(*args, **kwargs)\n",
      "  File \"C:\\Users\\UPJV\\HyperSpy-bundle\\lib\\site-packages\\hyperspy\\drawing\\utils.py\", line 192, in function_wrapper\n",
      "    function()\n",
      "  File \"C:\\Users\\UPJV\\HyperSpy-bundle\\lib\\site-packages\\hyperspy\\drawing\\signal1d.py\", line 145, in _on_close\n",
      "    super(Signal1DFigure, self)._on_close()\n",
      "  File \"C:\\Users\\UPJV\\HyperSpy-bundle\\lib\\site-packages\\hyperspy\\drawing\\figure.py\", line 117, in _on_close\n",
      "    self.events.closed.trigger(obj=self)\n",
      "  File \"<string>\", line 4, in trigger\n",
      "  File \"C:\\Users\\UPJV\\HyperSpy-bundle\\lib\\site-packages\\hyperspy\\events.py\", line 422, in trigger\n",
      "    function(**{kw: kwargs.get(kw, None) for kw in kwsl})\n",
      "  File \"C:\\Users\\UPJV\\HyperSpy-bundle\\lib\\site-packages\\hyperspy\\signal.py\", line 2672, in <lambda>\n",
      "    lambda: self.events.data_changed.disconnect(self.update_plot),\n",
      "  File \"C:\\Users\\UPJV\\HyperSpy-bundle\\lib\\site-packages\\hyperspy\\events.py\", line 392, in disconnect\n",
      "    raise ValueError(\"The %s function is not connected to %s.\" %\n",
      "ValueError: The <bound method BaseSignal.update_plot of <EDSSEMSpectrum, title: , dimensions: (2048, 1536|220)>> function is not connected to <hyperspy.events.Event: Event that triggers when the data has changed: set()>.\n"
     ]
    }
   ],
   "source": [
    "s.change_dtype('float')"
   ]
  },
  {
   "cell_type": "code",
   "execution_count": 18,
   "metadata": {},
   "outputs": [
    {
     "name": "stdout",
     "output_type": "stream",
     "text": [
      "Overwrite 'spectrum.hdf5' (y/n)?\n",
      "y\n"
     ]
    }
   ],
   "source": [
    "s.save('spectrum.hdf5')"
   ]
  },
  {
   "cell_type": "markdown",
   "metadata": {},
   "source": [
    "### Loading data"
   ]
  },
  {
   "cell_type": "code",
   "execution_count": 44,
   "metadata": {},
   "outputs": [],
   "source": [
    "sem_im = hs.load('680segmented2048.tif')"
   ]
  },
  {
   "cell_type": "code",
   "execution_count": 45,
   "metadata": {},
   "outputs": [],
   "source": [
    "sem_im.plot()"
   ]
  },
  {
   "cell_type": "code",
   "execution_count": 46,
   "metadata": {},
   "outputs": [],
   "source": [
    "s = hs.load('spectrum.hdf5')"
   ]
  },
  {
   "cell_type": "code",
   "execution_count": 47,
   "metadata": {},
   "outputs": [
    {
     "data": {
      "text/plain": [
       "(1536, 2048, 220)"
      ]
     },
     "execution_count": 47,
     "metadata": {},
     "output_type": "execute_result"
    }
   ],
   "source": [
    "s.data.shape"
   ]
  },
  {
   "cell_type": "code",
   "execution_count": 48,
   "metadata": {},
   "outputs": [
    {
     "data": {
      "text/plain": [
       "(1536, 2048)"
      ]
     },
     "execution_count": 48,
     "metadata": {},
     "output_type": "execute_result"
    }
   ],
   "source": [
    "sem_im.data.shape"
   ]
  },
  {
   "cell_type": "code",
   "execution_count": null,
   "metadata": {},
   "outputs": [],
   "source": [
    "# Look for the pixel values in the SEM images\n",
    "max_px_nbr = 3 # input the maximal number of different areas expected\n",
    "px_values = np.zeros((max_px_nbr), dtype='int')\n",
    "\n",
    "s_single_sum = hs.hyperspy.signal.hyperspy.signals.EDSSEMSpectrum( \\\n",
    "                    np.zeros([max_px_nbr,s.data.shape[2]], dtype='float'))\n",
    "\n",
    "k_0=0\n",
    "k_1=0\n",
    "K_2=0\n",
    "s_single_sum.data[:]=0\n",
    "\n",
    "for i in range(0,sem_im.data.shape[0]):\n",
    "    for j in range(0, sem_im.data.shape[1]):\n",
    "        for k in range(0, px_values.size):\n",
    "            if sem_im.isig[j,i]()[0]==0:\n",
    "                s_single_sum.inav[0]=s_single_sum.inav[0]+s.inav[j,i]\n",
    "                k_0 = k_0 +1\n",
    "            elif sem_im.isig[j,i]()[0]==1:\n",
    "                s_single_sum.inav[1]=s_single_sum.inav[1]+s.inav[j,i]\n",
    "                k_1 = k_1 +1\n",
    "            else: print('pb')"
   ]
  },
  {
   "cell_type": "code",
   "execution_count": 27,
   "metadata": {},
   "outputs": [],
   "source": [
    "s_single_sum2 = s_single_sum.deepcopy()"
   ]
  },
  {
   "cell_type": "code",
   "execution_count": 28,
   "metadata": {},
   "outputs": [],
   "source": [
    "s_single_sum.add_elements(['Ge','Al','P','O'])"
   ]
  },
  {
   "cell_type": "code",
   "execution_count": 29,
   "metadata": {},
   "outputs": [],
   "source": [
    "s_single_sum.axes_manager[1].offset = s.axes_manager[2].offset \n",
    "s_single_sum.axes_manager[1].scale = s.axes_manager[2].scale \n",
    "s_single_sum.axes_manager[1].units = s.axes_manager[2].units"
   ]
  },
  {
   "cell_type": "code",
   "execution_count": 30,
   "metadata": {},
   "outputs": [],
   "source": [
    "s_single_sum.add_lines(['Al_Ka','P_Ka','Ge_La','O_Ka'])"
   ]
  },
  {
   "cell_type": "code",
   "execution_count": 31,
   "metadata": {},
   "outputs": [],
   "source": [
    "s_single_sum.metadata.Acquisition_instrument = s.metadata.Acquisition_instrument\n",
    "s_single_sum.metadata.Sample = s.metadata.Sample"
   ]
  },
  {
   "cell_type": "code",
   "execution_count": 32,
   "metadata": {},
   "outputs": [],
   "source": [
    "s_single_sum.plot(xray_lines=True)"
   ]
  },
  {
   "cell_type": "code",
   "execution_count": 33,
   "metadata": {},
   "outputs": [],
   "source": [
    "s_single_sum.save('Sum2.hdf5')"
   ]
  },
  {
   "cell_type": "code",
   "execution_count": 34,
   "metadata": {},
   "outputs": [],
   "source": [
    "s_single_sum = hs.load('Sum2.hdf5')"
   ]
  },
  {
   "cell_type": "code",
   "execution_count": 35,
   "metadata": {},
   "outputs": [],
   "source": [
    "s.plot()"
   ]
  },
  {
   "cell_type": "code",
   "execution_count": 36,
   "metadata": {},
   "outputs": [],
   "source": [
    "s_single_sum.plot()"
   ]
  },
  {
   "cell_type": "code",
   "execution_count": 37,
   "metadata": {},
   "outputs": [],
   "source": [
    "s.add_lines(['Al_Ka','P_Ka','Ge_La','O_Ka'])"
   ]
  },
  {
   "cell_type": "code",
   "execution_count": 38,
   "metadata": {},
   "outputs": [],
   "source": [
    "bw = s_single_sum.estimate_background_windows(line_width=[2.5, 2.0])\n",
    "s_single_sum.plot(background_windows=bw)\n",
    "intensities = s_single_sum.get_lines_intensity(background_windows=bw)"
   ]
  },
  {
   "cell_type": "code",
   "execution_count": 39,
   "metadata": {},
   "outputs": [
    {
     "data": {
      "text/plain": [
       "[<BaseSignal, title: X-ray line intensity of : Al_Ka at 1.49 keV, dimensions: (3|)>,\n",
       " <BaseSignal, title: X-ray line intensity of : Ge_La at 1.19 keV, dimensions: (3|)>,\n",
       " <BaseSignal, title: X-ray line intensity of : O_Ka at 0.52 keV, dimensions: (3|)>,\n",
       " <BaseSignal, title: X-ray line intensity of : P_Ka at 2.01 keV, dimensions: (3|)>]"
      ]
     },
     "execution_count": 39,
     "metadata": {},
     "output_type": "execute_result"
    }
   ],
   "source": [
    "intensities"
   ]
  },
  {
   "cell_type": "code",
   "execution_count": 40,
   "metadata": {},
   "outputs": [],
   "source": [
    "# intensities are the intensities- 0: Al_Ka, 1: Ge_La, 2:O_Ka, 3:P_Ka \n",
    "# inav indicates which area to selec-t 0: inter-grain, 1:grain, 2:voids\n",
    "# intensities are the X-rays intensities, they do not directly give the concentration\n",
    "# To get the concentration the .quantification method should be used by needs the CL factors \\\n",
    "#       from the X-rays acquisition software"
   ]
  },
  {
   "cell_type": "code",
   "execution_count": 41,
   "metadata": {},
   "outputs": [
    {
     "name": "stderr",
     "output_type": "stream",
     "text": [
      "<ipython-input-41-2e1cfb8fe675>:2: RuntimeWarning: invalid value encountered in double_scalars\n",
      "  intensities[0].inav[0].data[0]/intensities[1].inav[0].data[0]\n"
     ]
    },
    {
     "data": {
      "text/plain": [
       "nan"
      ]
     },
     "execution_count": 41,
     "metadata": {},
     "output_type": "execute_result"
    }
   ],
   "source": [
    "# Al/Ge inter-grain\n",
    "intensities[0].inav[0].data[0]/intensities[1].inav[0].data[0]"
   ]
  },
  {
   "cell_type": "code",
   "execution_count": 42,
   "metadata": {},
   "outputs": [
    {
     "data": {
      "text/plain": [
       "0.008564902931100115"
      ]
     },
     "execution_count": 42,
     "metadata": {},
     "output_type": "execute_result"
    }
   ],
   "source": [
    "# Al/Ge grain\n",
    "intensities[0].inav[1].data[0]/intensities[1].inav[1].data[0]"
   ]
  },
  {
   "cell_type": "code",
   "execution_count": 43,
   "metadata": {},
   "outputs": [
    {
     "name": "stderr",
     "output_type": "stream",
     "text": [
      "<ipython-input-43-d21d11f089f2>:2: RuntimeWarning: invalid value encountered in double_scalars\n",
      "  intensities[2].inav[0].data[0]/intensities[1].inav[0].data[0]\n"
     ]
    },
    {
     "data": {
      "text/plain": [
       "nan"
      ]
     },
     "execution_count": 43,
     "metadata": {},
     "output_type": "execute_result"
    }
   ],
   "source": [
    "# O/Ge inter-grain\n",
    "intensities[2].inav[0].data[0]/intensities[1].inav[0].data[0]"
   ]
  },
  {
   "cell_type": "code",
   "execution_count": 30,
   "metadata": {},
   "outputs": [
    {
     "data": {
      "text/plain": [
       "2.1970664880903867"
      ]
     },
     "execution_count": 30,
     "metadata": {},
     "output_type": "execute_result"
    }
   ],
   "source": [
    "# O/Ge grain\n",
    "intensities[2].inav[1].data[0]/intensities[1].inav[1].data[0]"
   ]
  },
  {
   "cell_type": "code",
   "execution_count": 31,
   "metadata": {},
   "outputs": [
    {
     "data": {
      "text/plain": [
       "1.286965674124877"
      ]
     },
     "execution_count": 31,
     "metadata": {},
     "output_type": "execute_result"
    }
   ],
   "source": [
    "# P/Ge inter-grain\n",
    "intensities[3].inav[0].data[0]/intensities[1].inav[0].data[0]"
   ]
  },
  {
   "cell_type": "code",
   "execution_count": 32,
   "metadata": {},
   "outputs": [
    {
     "data": {
      "text/plain": [
       "0.6182579560799276"
      ]
     },
     "execution_count": 32,
     "metadata": {},
     "output_type": "execute_result"
    }
   ],
   "source": [
    "# P/Ge grain\n",
    "intensities[3].inav[1].data[0]/intensities[1].inav[1].data[0]"
   ]
  },
  {
   "cell_type": "code",
   "execution_count": 46,
   "metadata": {},
   "outputs": [
    {
     "data": {
      "text/plain": [
       "25.504716981132077"
      ]
     },
     "execution_count": 46,
     "metadata": {},
     "output_type": "execute_result"
    }
   ],
   "source": [
    "#O/Al intergrain\n",
    "intensities[2].inav[0].data[0]/intensities[0].inav[0].data[0]"
   ]
  },
  {
   "cell_type": "code",
   "execution_count": 47,
   "metadata": {},
   "outputs": [
    {
     "data": {
      "text/plain": [
       "19.068588089092824"
      ]
     },
     "execution_count": 47,
     "metadata": {},
     "output_type": "execute_result"
    }
   ],
   "source": [
    "# O/Al grain\n",
    "intensities[2].inav[1].data[0]/intensities[0].inav[1].data[0]"
   ]
  },
  {
   "cell_type": "code",
   "execution_count": 48,
   "metadata": {},
   "outputs": [
    {
     "data": {
      "text/plain": [
       "9.535849056603773"
      ]
     },
     "execution_count": 48,
     "metadata": {},
     "output_type": "execute_result"
    }
   ],
   "source": [
    "#P/Al intergrain\n",
    "intensities[3].inav[0].data[0]/intensities[0].inav[0].data[0]"
   ]
  },
  {
   "cell_type": "code",
   "execution_count": 49,
   "metadata": {},
   "outputs": [
    {
     "data": {
      "text/plain": [
       "5.365930599369086"
      ]
     },
     "execution_count": 49,
     "metadata": {},
     "output_type": "execute_result"
    }
   ],
   "source": [
    "#P/Al grain\n",
    "intensities[3].inav[1].data[0]/intensities[0].inav[1].data[0]"
   ]
  },
  {
   "cell_type": "code",
   "execution_count": 50,
   "metadata": {},
   "outputs": [
    {
     "data": {
      "text/plain": [
       "2.6746141669964385"
      ]
     },
     "execution_count": 50,
     "metadata": {},
     "output_type": "execute_result"
    }
   ],
   "source": [
    "#O/P intergrain\n",
    "intensities[2].inav[0].data[0]/intensities[3].inav[0].data[0]"
   ]
  },
  {
   "cell_type": "code",
   "execution_count": 52,
   "metadata": {},
   "outputs": [
    {
     "data": {
      "text/plain": [
       "3.553640461047869"
      ]
     },
     "execution_count": 52,
     "metadata": {},
     "output_type": "execute_result"
    }
   ],
   "source": [
    "#O/P grain\n",
    "intensities[2].inav[1].data[0]/intensities[3].inav[1].data[0]"
   ]
  },
  {
   "cell_type": "code",
   "execution_count": 53,
   "metadata": {},
   "outputs": [],
   "source": [
    "s_single_sum.plot(xray_lines=True)"
   ]
  },
  {
   "cell_type": "code",
   "execution_count": 54,
   "metadata": {},
   "outputs": [],
   "source": [
    "s_single_sum.inav[0].plot()\n",
    "###spectra of intergrain region"
   ]
  },
  {
   "cell_type": "code",
   "execution_count": 55,
   "metadata": {},
   "outputs": [],
   "source": [
    "s_single_sum.inav[1].plot()\n",
    "###Spectra of the grain region"
   ]
  },
  {
   "cell_type": "code",
   "execution_count": 59,
   "metadata": {},
   "outputs": [],
   "source": [
    "all_spectra= hs.plot.plot_spectra([s_single_sum.inav[0], s_single_sum.inav[1]])\n",
    "### blue, yellow"
   ]
  },
  {
   "cell_type": "code",
   "execution_count": 57,
   "metadata": {},
   "outputs": [],
   "source": [
    "s_single_sum.axes_manager[-1].name = 'E'\n",
    "s_single_sum.axes_manager['E'].units = 'keV'"
   ]
  },
  {
   "cell_type": "code",
   "execution_count": 60,
   "metadata": {},
   "outputs": [],
   "source": [
    "all_spectra.figure.savefig(\"all_spectra_non_normalized.png\")"
   ]
  },
  {
   "cell_type": "code",
   "execution_count": 61,
   "metadata": {},
   "outputs": [],
   "source": [
    "### NORMALIZATION\n",
    "for i in s_single_sum:\n",
    "    i.data /= i.data.max()"
   ]
  },
  {
   "cell_type": "code",
   "execution_count": 62,
   "metadata": {},
   "outputs": [],
   "source": [
    "norma_all_spectra= hs.plot.plot_spectra([s_single_sum.inav[0], s_single_sum.inav[1]])\n",
    "plt.draw()"
   ]
  },
  {
   "cell_type": "code",
   "execution_count": 63,
   "metadata": {},
   "outputs": [],
   "source": [
    "norma_all_spectra.figure.savefig(\"norm_spectra700.png\")"
   ]
  },
  {
   "cell_type": "code",
   "execution_count": 65,
   "metadata": {},
   "outputs": [
    {
     "data": {
      "text/plain": [
       "15.413064883033986"
      ]
     },
     "execution_count": 65,
     "metadata": {},
     "output_type": "execute_result"
    }
   ],
   "source": [
    "#Ge grain/Ge inter grain\n",
    "intensities[1].inav[1].data[0]/intensities[1].inav[0].data[0]"
   ]
  },
  {
   "cell_type": "code",
   "execution_count": 66,
   "metadata": {},
   "outputs": [
    {
     "data": {
      "text/plain": [
       "13.158490566037736"
      ]
     },
     "execution_count": 66,
     "metadata": {},
     "output_type": "execute_result"
    }
   ],
   "source": [
    "#Al grain/Al inter grain\n",
    "intensities[0].inav[1].data[0]/intensities[0].inav[0].data[0]"
   ]
  },
  {
   "cell_type": "code",
   "execution_count": 67,
   "metadata": {},
   "outputs": [
    {
     "data": {
      "text/plain": [
       "9.837938474816596"
      ]
     },
     "execution_count": 67,
     "metadata": {},
     "output_type": "execute_result"
    }
   ],
   "source": [
    "#O grain/O inter grain\n",
    "intensities[2].inav[1].data[0]/intensities[2].inav[0].data[0]"
   ]
  },
  {
   "cell_type": "code",
   "execution_count": 68,
   "metadata": {},
   "outputs": [
    {
     "data": {
      "text/plain": [
       "7.404432132963989"
      ]
     },
     "execution_count": 68,
     "metadata": {},
     "output_type": "execute_result"
    }
   ],
   "source": [
    "#P grain/P inter grain\n",
    "intensities[3].inav[1].data[0]/intensities[3].inav[0].data[0]"
   ]
  },
  {
   "cell_type": "markdown",
   "metadata": {},
   "source": [
    "# Example quantification\n",
    "s = hs.datasets.example_signals.EDS_TEM_Spectrum()\n",
    "s.add_lines()\n",
    "kfactors = [1.450226, 5.075602] #For Fe Ka and Pt La\n",
    "bw = s.estimate_background_windows(line_width=[5.0, 2.0])\n",
    "intensities = s.get_lines_intensity(background_windows=bw)\n",
    "atomic_percent = s.quantification(intensities, method='CL', factors=kfactors)\n",
    "Fe (Fe_Ka): Composition = 15.41 atomic percent\n",
    "Pt (Pt_La): Composition = 84.59 atomic percent"
   ]
  }
 ],
 "metadata": {
  "kernelspec": {
   "display_name": "Python 3",
   "language": "python",
   "name": "python3"
  },
  "language_info": {
   "codemirror_mode": {
    "name": "ipython",
    "version": 3
   },
   "file_extension": ".py",
   "mimetype": "text/x-python",
   "name": "python",
   "nbconvert_exporter": "python",
   "pygments_lexer": "ipython3",
   "version": "3.8.5"
  }
 },
 "nbformat": 4,
 "nbformat_minor": 2
}
